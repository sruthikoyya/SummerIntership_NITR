{
  "cells": [
    {
      "cell_type": "markdown",
      "metadata": {
        "id": "view-in-github",
        "colab_type": "text"
      },
      "source": [
        "<a href=\"https://colab.research.google.com/github/sruthikoyya/SummerIntership_NITR/blob/main/modelon_cifar100_NITR_4.ipynb\" target=\"_parent\"><img src=\"https://colab.research.google.com/assets/colab-badge.svg\" alt=\"Open In Colab\"/></a>"
      ]
    },
    {
      "cell_type": "code",
      "execution_count": 1,
      "metadata": {
        "id": "cU1MWJ6Ht12l"
      },
      "outputs": [],
      "source": [
        "# Import necessary libraries\n",
        "import tensorflow as tf\n",
        "from tensorflow.keras import layers, Sequential, Model, Input\n",
        "from tensorflow.keras.datasets import cifar100\n",
        "import numpy as np"
      ]
    },
    {
      "cell_type": "code",
      "execution_count": 2,
      "metadata": {
        "colab": {
          "base_uri": "https://localhost:8080/"
        },
        "id": "ntNPSKG_uJDw",
        "outputId": "a620e4b9-d637-41fb-cbda-60558126424d"
      },
      "outputs": [
        {
          "output_type": "stream",
          "name": "stdout",
          "text": [
            "Downloading data from https://www.cs.toronto.edu/~kriz/cifar-100-python.tar.gz\n",
            "\u001b[1m169001437/169001437\u001b[0m \u001b[32m━━━━━━━━━━━━━━━━━━━━\u001b[0m\u001b[37m\u001b[0m \u001b[1m2s\u001b[0m 0us/step\n"
          ]
        }
      ],
      "source": [
        "# Load and preprocess MNIST dataset\n",
        "(X_train, y_train), (X_test, y_test) = cifar100.load_data()"
      ]
    },
    {
      "cell_type": "code",
      "execution_count": 3,
      "metadata": {
        "colab": {
          "base_uri": "https://localhost:8080/"
        },
        "id": "WGiASDC-sCEs",
        "outputId": "7b1ef164-84ce-456a-b59c-b57fddc6ae98"
      },
      "outputs": [
        {
          "output_type": "execute_result",
          "data": {
            "text/plain": [
              "(50000, 10000)"
            ]
          },
          "metadata": {},
          "execution_count": 3
        }
      ],
      "source": [
        "len(X_train),len(X_test)"
      ]
    },
    {
      "cell_type": "code",
      "execution_count": 4,
      "metadata": {
        "id": "DHMlEs6vuNXX"
      },
      "outputs": [],
      "source": [
        "# Normalize and convert to float32\n",
        "X_train = X_train.astype('float32') / 255.0\n",
        "X_test = X_test.astype('float32') / 255.0"
      ]
    },
    {
      "cell_type": "code",
      "execution_count": 5,
      "metadata": {
        "colab": {
          "base_uri": "https://localhost:8080/",
          "height": 53
        },
        "id": "LJ3Iix8buQaT",
        "outputId": "a2cfb2b8-1efb-4a0f-f5ce-d3b65b9af55c"
      },
      "outputs": [
        {
          "output_type": "execute_result",
          "data": {
            "text/plain": [
              "'#Data Preprocessing\\nX_train = tf.image.resize_with_pad(tf.expand_dims(X_train, -1), 32, 32)\\nX_test = tf.image.resize_with_pad(tf.expand_dims(X_test, -1), 32, 32)\\nX_train = tf.image.grayscale_to_rgb(X_train)\\nX_test = tf.image.grayscale_to_rgb(X_test)'"
            ],
            "application/vnd.google.colaboratory.intrinsic+json": {
              "type": "string"
            }
          },
          "metadata": {},
          "execution_count": 5
        }
      ],
      "source": [
        "#Not required because the images size is 32x32 and the images are RGB images\n",
        "\"\"\"#Data Preprocessing\n",
        "X_train = tf.image.resize_with_pad(tf.expand_dims(X_train, -1), 32, 32)\n",
        "X_test = tf.image.resize_with_pad(tf.expand_dims(X_test, -1), 32, 32)\n",
        "X_train = tf.image.grayscale_to_rgb(X_train)\n",
        "X_test = tf.image.grayscale_to_rgb(X_test)\"\"\""
      ]
    },
    {
      "cell_type": "code",
      "execution_count": 6,
      "metadata": {
        "id": "p7Ylf7J6v7TN"
      },
      "outputs": [],
      "source": [
        "from tensorflow.keras.layers import BatchNormalization"
      ]
    },
    {
      "cell_type": "code",
      "execution_count": 7,
      "metadata": {
        "id": "7q6ivgm-Kq-U"
      },
      "outputs": [],
      "source": [
        "from tensorflow.keras import layers\n",
        "\n",
        "def dcb_block(input_tensor):\n",
        "    # Dilated conv with d=1\n",
        "    d1 = layers.DepthwiseConv2D(kernel_size=3, dilation_rate=1, padding='same')(input_tensor)\n",
        "    d1 = layers.BatchNormalization()(d1)\n",
        "    d1 = layers.Conv2D(32, kernel_size=1, padding='same', activation='relu')(d1)\n",
        "\n",
        "    # Dilated conv with d=3\n",
        "    d3 = layers.DepthwiseConv2D(kernel_size=3, dilation_rate=3, padding='same')(input_tensor)\n",
        "    d3 = layers.BatchNormalization()(d3)\n",
        "    d3 = layers.Conv2D(32, kernel_size=1, padding='same', activation='relu')(d3)\n",
        "\n",
        "    # Concatenate d1 and d3\n",
        "    concat_13 = layers.Concatenate()([d1, d3])\n",
        "    concat_13 = layers.BatchNormalization()(concat_13)\n",
        "    concat_13 = layers.Conv2D(32, kernel_size=1, padding='same', activation='relu')(concat_13)\n",
        "\n",
        "    # Multiply concat_13 and d3\n",
        "    multiplied = layers.Multiply()([concat_13, d3])\n",
        "    multiplied = layers.BatchNormalization()(multiplied)\n",
        "    multiplied = layers.Conv2D(32, kernel_size=1, padding='same', activation='relu')(multiplied)\n",
        "\n",
        "    # Apply sigmoid to multiplied\n",
        "    mul_sigmoid = layers.Activation('sigmoid')(multiplied)\n",
        "\n",
        "    # Dilated conv with d=5\n",
        "    d5 = layers.DepthwiseConv2D(kernel_size=3, dilation_rate=5, padding='same')(input_tensor)\n",
        "    d5 = layers.BatchNormalization()(d5)\n",
        "    d5 = layers.Conv2D(32, kernel_size=1, padding='same', activation='relu')(d5)\n",
        "\n",
        "    # Concatenate mul_sigmoid and d5\n",
        "    refined = layers.Concatenate()([mul_sigmoid, d5])\n",
        "\n",
        "    return refined\n"
      ]
    },
    {
      "cell_type": "code",
      "execution_count": 8,
      "metadata": {
        "id": "-4DKLAwbv8Yt"
      },
      "outputs": [],
      "source": [
        "from tensorflow.keras import backend as K\n",
        "\n",
        "def cbam_block(input_feature, ratio=8):\n",
        "    channel = input_feature.shape[-1]\n",
        "\n",
        "    # Channel Attention\n",
        "    shared_dense = Sequential([\n",
        "        layers.Dense(channel // ratio, activation='relu', kernel_initializer='he_normal', use_bias=True),\n",
        "        layers.Dense(channel, kernel_initializer='he_normal', use_bias=True)\n",
        "    ])\n",
        "\n",
        "    avg_pool = layers.GlobalAveragePooling2D()(input_feature)\n",
        "    max_pool = layers.GlobalMaxPooling2D()(input_feature)\n",
        "\n",
        "    avg_pool = layers.Reshape((1, 1, channel))(avg_pool)\n",
        "    max_pool = layers.Reshape((1, 1, channel))(max_pool)\n",
        "\n",
        "    avg_out = shared_dense(avg_pool)\n",
        "    max_out = shared_dense(max_pool)\n",
        "\n",
        "    channel_attention = layers.Activation('sigmoid')(avg_out + max_out)\n",
        "    channel_refined = layers.Multiply()([input_feature, channel_attention])\n",
        "\n",
        "    # Spatial Attention\n",
        "    avg_pool = layers.Lambda(lambda x: K.mean(x, axis=3, keepdims=True))(channel_refined)\n",
        "    max_pool = layers.Lambda(lambda x: K.max(x, axis=3, keepdims=True))(channel_refined)\n",
        "    spatial_attention = layers.Concatenate(axis=3)([avg_pool, max_pool])\n",
        "    spatial_attention = layers.Conv2D(1, kernel_size=7, padding='same', activation='sigmoid')(spatial_attention)\n",
        "\n",
        "    refined_feature = layers.Multiply()([channel_refined, spatial_attention])\n",
        "    return refined_feature\n"
      ]
    },
    {
      "cell_type": "code",
      "execution_count": 9,
      "metadata": {
        "id": "biG8fs6UwFGz"
      },
      "outputs": [],
      "source": [
        "# Build the full model\n",
        "def build_model():\n",
        "    inputs = Input(shape=(32, 32, 3))\n",
        "\n",
        "    # Pretrained ResNet50\n",
        "    base_model = tf.keras.applications.ResNet50(include_top=False, weights='imagenet', input_shape=(32, 32, 3), pooling='avg')\n",
        "    base_model.trainable = False\n",
        "\n",
        "    x = base_model(inputs)\n",
        "    x = layers.Reshape((1, 1, 2048))(x)\n",
        "    x = layers.Conv2D(128, kernel_size=1, padding='same')(x)\n",
        "    x = layers.UpSampling2D(size=(4, 4))(x)  # optional resizing to give spatial dimensions\n",
        "\n",
        "    x = dcb_block(x)\n",
        "    x = cbam_block(x)\n",
        "\n",
        "    x = layers.GlobalAveragePooling2D()(x)\n",
        "    x = layers.Dense(64, activation='relu')(x)\n",
        "    outputs = layers.Dense(100, activation='softmax')(x)\n",
        "\n",
        "    model = Model(inputs, outputs)\n",
        "    return model"
      ]
    },
    {
      "cell_type": "code",
      "execution_count": null,
      "metadata": {
        "colab": {
          "base_uri": "https://localhost:8080/"
        },
        "id": "5ZLT75bQvBR4",
        "outputId": "520c6b13-a09b-40ff-f653-08cfde151e9f"
      },
      "outputs": [
        {
          "output_type": "stream",
          "name": "stdout",
          "text": [
            "Downloading data from https://storage.googleapis.com/tensorflow/keras-applications/resnet/resnet50_weights_tf_dim_ordering_tf_kernels_notop.h5\n",
            "\u001b[1m94765736/94765736\u001b[0m \u001b[32m━━━━━━━━━━━━━━━━━━━━\u001b[0m\u001b[37m\u001b[0m \u001b[1m1s\u001b[0m 0us/step\n",
            "Epoch 1/50\n",
            "\u001b[1m1407/1407\u001b[0m \u001b[32m━━━━━━━━━━━━━━━━━━━━\u001b[0m\u001b[37m\u001b[0m \u001b[1m294s\u001b[0m 196ms/step - accuracy: 0.0471 - loss: 4.3506 - val_accuracy: 0.0408 - val_loss: 5.2707\n",
            "Epoch 2/50\n",
            "\u001b[1m1407/1407\u001b[0m \u001b[32m━━━━━━━━━━━━━━━━━━━━\u001b[0m\u001b[37m\u001b[0m \u001b[1m275s\u001b[0m 195ms/step - accuracy: 0.1109 - loss: 3.8821 - val_accuracy: 0.0292 - val_loss: 7.3155\n",
            "Epoch 3/50\n",
            "\u001b[1m1407/1407\u001b[0m \u001b[32m━━━━━━━━━━━━━━━━━━━━\u001b[0m\u001b[37m\u001b[0m \u001b[1m328s\u001b[0m 199ms/step - accuracy: 0.1410 - loss: 3.6829 - val_accuracy: 0.0446 - val_loss: 6.3481\n",
            "Epoch 4/50\n",
            "\u001b[1m1407/1407\u001b[0m \u001b[32m━━━━━━━━━━━━━━━━━━━━\u001b[0m\u001b[37m\u001b[0m \u001b[1m290s\u001b[0m 177ms/step - accuracy: 0.1566 - loss: 3.5809 - val_accuracy: 0.0380 - val_loss: 6.1386\n",
            "Epoch 5/50\n",
            "\u001b[1m1407/1407\u001b[0m \u001b[32m━━━━━━━━━━━━━━━━━━━━\u001b[0m\u001b[37m\u001b[0m \u001b[1m269s\u001b[0m 191ms/step - accuracy: 0.1713 - loss: 3.5148 - val_accuracy: 0.0444 - val_loss: 5.9439\n",
            "Epoch 6/50\n",
            "\u001b[1m1407/1407\u001b[0m \u001b[32m━━━━━━━━━━━━━━━━━━━━\u001b[0m\u001b[37m\u001b[0m \u001b[1m256s\u001b[0m 182ms/step - accuracy: 0.1798 - loss: 3.4623 - val_accuracy: 0.0446 - val_loss: 5.8346\n",
            "Epoch 7/50\n",
            "\u001b[1m1407/1407\u001b[0m \u001b[32m━━━━━━━━━━━━━━━━━━━━\u001b[0m\u001b[37m\u001b[0m \u001b[1m287s\u001b[0m 200ms/step - accuracy: 0.1917 - loss: 3.4040 - val_accuracy: 0.0510 - val_loss: 6.3157\n",
            "Epoch 8/50\n",
            "\u001b[1m1407/1407\u001b[0m \u001b[32m━━━━━━━━━━━━━━━━━━━━\u001b[0m\u001b[37m\u001b[0m \u001b[1m312s\u001b[0m 193ms/step - accuracy: 0.1926 - loss: 3.3818 - val_accuracy: 0.0602 - val_loss: 4.9918\n",
            "Epoch 9/50\n",
            "\u001b[1m1407/1407\u001b[0m \u001b[32m━━━━━━━━━━━━━━━━━━━━\u001b[0m\u001b[37m\u001b[0m \u001b[1m322s\u001b[0m 193ms/step - accuracy: 0.2050 - loss: 3.3428 - val_accuracy: 0.0226 - val_loss: 8.8566\n",
            "Epoch 10/50\n",
            "\u001b[1m1407/1407\u001b[0m \u001b[32m━━━━━━━━━━━━━━━━━━━━\u001b[0m\u001b[37m\u001b[0m \u001b[1m320s\u001b[0m 191ms/step - accuracy: 0.2077 - loss: 3.3283 - val_accuracy: 0.0356 - val_loss: 10.7604\n",
            "Epoch 11/50\n",
            "\u001b[1m1407/1407\u001b[0m \u001b[32m━━━━━━━━━━━━━━━━━━━━\u001b[0m\u001b[37m\u001b[0m \u001b[1m322s\u001b[0m 191ms/step - accuracy: 0.2076 - loss: 3.2992 - val_accuracy: 0.0274 - val_loss: 10.2969\n",
            "Epoch 12/50\n",
            "\u001b[1m1407/1407\u001b[0m \u001b[32m━━━━━━━━━━━━━━━━━━━━\u001b[0m\u001b[37m\u001b[0m \u001b[1m305s\u001b[0m 179ms/step - accuracy: 0.2151 - loss: 3.2734 - val_accuracy: 0.0348 - val_loss: 6.3777\n",
            "Epoch 13/50\n",
            "\u001b[1m1407/1407\u001b[0m \u001b[32m━━━━━━━━━━━━━━━━━━━━\u001b[0m\u001b[37m\u001b[0m \u001b[1m250s\u001b[0m 178ms/step - accuracy: 0.2235 - loss: 3.2435 - val_accuracy: 0.0516 - val_loss: 8.7330\n",
            "Epoch 14/50\n",
            "\u001b[1m1407/1407\u001b[0m \u001b[32m━━━━━━━━━━━━━━━━━━━━\u001b[0m\u001b[37m\u001b[0m \u001b[1m281s\u001b[0m 192ms/step - accuracy: 0.2253 - loss: 3.2274 - val_accuracy: 0.0312 - val_loss: 8.6180\n",
            "Epoch 15/50\n",
            "\u001b[1m1407/1407\u001b[0m \u001b[32m━━━━━━━━━━━━━━━━━━━━\u001b[0m\u001b[37m\u001b[0m \u001b[1m322s\u001b[0m 192ms/step - accuracy: 0.2245 - loss: 3.2145 - val_accuracy: 0.0534 - val_loss: 4.9670\n",
            "Epoch 16/50\n",
            "\u001b[1m1407/1407\u001b[0m \u001b[32m━━━━━━━━━━━━━━━━━━━━\u001b[0m\u001b[37m\u001b[0m \u001b[1m329s\u001b[0m 197ms/step - accuracy: 0.2307 - loss: 3.2091 - val_accuracy: 0.0546 - val_loss: 5.6167\n",
            "Epoch 17/50\n",
            "\u001b[1m1407/1407\u001b[0m \u001b[32m━━━━━━━━━━━━━━━━━━━━\u001b[0m\u001b[37m\u001b[0m \u001b[1m301s\u001b[0m 182ms/step - accuracy: 0.2296 - loss: 3.1876 - val_accuracy: 0.0484 - val_loss: 6.2339\n",
            "Epoch 18/50\n",
            "\u001b[1m1407/1407\u001b[0m \u001b[32m━━━━━━━━━━━━━━━━━━━━\u001b[0m\u001b[37m\u001b[0m \u001b[1m301s\u001b[0m 214ms/step - accuracy: 0.2339 - loss: 3.1789 - val_accuracy: 0.0532 - val_loss: 7.2898\n",
            "Epoch 19/50\n",
            "\u001b[1m1407/1407\u001b[0m \u001b[32m━━━━━━━━━━━━━━━━━━━━\u001b[0m\u001b[37m\u001b[0m \u001b[1m296s\u001b[0m 196ms/step - accuracy: 0.2351 - loss: 3.1579 - val_accuracy: 0.0460 - val_loss: 6.8073\n",
            "Epoch 20/50\n",
            "\u001b[1m1407/1407\u001b[0m \u001b[32m━━━━━━━━━━━━━━━━━━━━\u001b[0m\u001b[37m\u001b[0m \u001b[1m319s\u001b[0m 194ms/step - accuracy: 0.2347 - loss: 3.1541 - val_accuracy: 0.0410 - val_loss: 9.0048\n",
            "Epoch 21/50\n",
            "\u001b[1m1407/1407\u001b[0m \u001b[32m━━━━━━━━━━━━━━━━━━━━\u001b[0m\u001b[37m\u001b[0m \u001b[1m324s\u001b[0m 196ms/step - accuracy: 0.2381 - loss: 3.1477 - val_accuracy: 0.0548 - val_loss: 6.0812\n",
            "Epoch 22/50\n",
            "\u001b[1m1407/1407\u001b[0m \u001b[32m━━━━━━━━━━━━━━━━━━━━\u001b[0m\u001b[37m\u001b[0m \u001b[1m299s\u001b[0m 179ms/step - accuracy: 0.2396 - loss: 3.1207 - val_accuracy: 0.0526 - val_loss: 6.8111\n",
            "Epoch 23/50\n",
            "\u001b[1m1407/1407\u001b[0m \u001b[32m━━━━━━━━━━━━━━━━━━━━\u001b[0m\u001b[37m\u001b[0m \u001b[1m261s\u001b[0m 179ms/step - accuracy: 0.2474 - loss: 3.1085 - val_accuracy: 0.0776 - val_loss: 8.0192\n",
            "Epoch 24/50\n",
            "\u001b[1m1407/1407\u001b[0m \u001b[32m━━━━━━━━━━━━━━━━━━━━\u001b[0m\u001b[37m\u001b[0m \u001b[1m283s\u001b[0m 194ms/step - accuracy: 0.2452 - loss: 3.1063 - val_accuracy: 0.0522 - val_loss: 7.0887\n",
            "Epoch 25/50\n",
            "\u001b[1m1407/1407\u001b[0m \u001b[32m━━━━━━━━━━━━━━━━━━━━\u001b[0m\u001b[37m\u001b[0m \u001b[1m318s\u001b[0m 191ms/step - accuracy: 0.2445 - loss: 3.0973 - val_accuracy: 0.0394 - val_loss: 10.1143\n",
            "Epoch 26/50\n",
            "\u001b[1m1407/1407\u001b[0m \u001b[32m━━━━━━━━━━━━━━━━━━━━\u001b[0m\u001b[37m\u001b[0m \u001b[1m303s\u001b[0m 178ms/step - accuracy: 0.2533 - loss: 3.0793 - val_accuracy: 0.0442 - val_loss: 8.3550\n",
            "Epoch 27/50\n",
            "\u001b[1m1407/1407\u001b[0m \u001b[32m━━━━━━━━━━━━━━━━━━━━\u001b[0m\u001b[37m\u001b[0m \u001b[1m269s\u001b[0m 191ms/step - accuracy: 0.2499 - loss: 3.0773 - val_accuracy: 0.0436 - val_loss: 9.3028\n",
            "Epoch 28/50\n",
            "\u001b[1m1407/1407\u001b[0m \u001b[32m━━━━━━━━━━━━━━━━━━━━\u001b[0m\u001b[37m\u001b[0m \u001b[1m318s\u001b[0m 188ms/step - accuracy: 0.2510 - loss: 3.0741 - val_accuracy: 0.0588 - val_loss: 6.4747\n",
            "Epoch 29/50\n",
            "\u001b[1m1407/1407\u001b[0m \u001b[32m━━━━━━━━━━━━━━━━━━━━\u001b[0m\u001b[37m\u001b[0m \u001b[1m325s\u001b[0m 191ms/step - accuracy: 0.2556 - loss: 3.0570 - val_accuracy: 0.0326 - val_loss: 6.1353\n",
            "Epoch 30/50\n",
            "\u001b[1m1407/1407\u001b[0m \u001b[32m━━━━━━━━━━━━━━━━━━━━\u001b[0m\u001b[37m\u001b[0m \u001b[1m323s\u001b[0m 191ms/step - accuracy: 0.2580 - loss: 3.0524 - val_accuracy: 0.0508 - val_loss: 7.2145\n",
            "Epoch 31/50\n",
            "\u001b[1m1407/1407\u001b[0m \u001b[32m━━━━━━━━━━━━━━━━━━━━\u001b[0m\u001b[37m\u001b[0m \u001b[1m329s\u001b[0m 196ms/step - accuracy: 0.2557 - loss: 3.0381 - val_accuracy: 0.0656 - val_loss: 5.0589\n",
            "Epoch 32/50\n",
            "\u001b[1m1407/1407\u001b[0m \u001b[32m━━━━━━━━━━━━━━━━━━━━\u001b[0m\u001b[37m\u001b[0m \u001b[1m314s\u001b[0m 191ms/step - accuracy: 0.2600 - loss: 3.0419 - val_accuracy: 0.0766 - val_loss: 6.2470\n",
            "Epoch 33/50\n",
            "\u001b[1m1407/1407\u001b[0m \u001b[32m━━━━━━━━━━━━━━━━━━━━\u001b[0m\u001b[37m\u001b[0m \u001b[1m305s\u001b[0m 179ms/step - accuracy: 0.2616 - loss: 3.0311 - val_accuracy: 0.0712 - val_loss: 5.4708\n",
            "Epoch 34/50\n",
            "\u001b[1m 163/1407\u001b[0m \u001b[32m━━\u001b[0m\u001b[37m━━━━━━━━━━━━━━━━━━\u001b[0m \u001b[1m3:20\u001b[0m 161ms/step - accuracy: 0.2818 - loss: 2.9570"
          ]
        }
      ],
      "source": [
        "# Instantiate and compile the model\n",
        "model = build_model()\n",
        "model.compile(optimizer='adam', loss='sparse_categorical_crossentropy', metrics=['accuracy'])\n",
        "\n",
        "# Train the model and store training history\n",
        "history = model.fit(\n",
        "    X_train, y_train,\n",
        "    validation_split=0.1,\n",
        "    epochs=50,\n",
        "    batch_size=32\n",
        ")\n",
        "\n",
        "# Evaluate the model\n",
        "test_loss, test_acc = model.evaluate(X_test, y_test)\n",
        "print(\"Test Accuracy:\", test_acc)\n"
      ]
    },
    {
      "cell_type": "code",
      "execution_count": null,
      "metadata": {
        "id": "P-DK63nBvdqV"
      },
      "outputs": [],
      "source": [
        "import matplotlib.pyplot as plt\n",
        "\n",
        "# Plot training & validation accuracy\n",
        "plt.plot(history.history['accuracy'], label='Train Accuracy')\n",
        "plt.plot(history.history['val_accuracy'], label='Val Accuracy')\n",
        "plt.title('Model Accuracy')\n",
        "plt.xlabel('Epoch')\n",
        "plt.ylabel('Accuracy')\n",
        "plt.legend()\n",
        "plt.show()\n",
        "\n",
        "# Plot training & validation loss\n",
        "plt.plot(history.history['loss'], label='Train Loss')\n",
        "plt.plot(history.history['val_loss'], label='Val Loss')\n",
        "plt.title('Model Loss')\n",
        "plt.xlabel('Epoch')\n",
        "plt.ylabel('Loss')\n",
        "plt.legend()\n",
        "plt.show()\n"
      ]
    },
    {
      "cell_type": "code",
      "execution_count": null,
      "metadata": {
        "id": "TCArv1X1d1CB"
      },
      "outputs": [],
      "source": [
        "model.summary()"
      ]
    },
    {
      "cell_type": "code",
      "execution_count": null,
      "metadata": {
        "colab": {
          "base_uri": "https://localhost:8080/",
          "height": 1000
        },
        "id": "typoh6B4d0_N",
        "outputId": "da57e73b-7761-4bce-e048-181987c115e1"
      },
      "outputs": [
        {
          "name": "stdout",
          "output_type": "stream",
          "text": [
            "\u001b[1m1/1\u001b[0m \u001b[32m━━━━━━━━━━━━━━━━━━━━\u001b[0m\u001b[37m\u001b[0m \u001b[1m3s\u001b[0m 3s/step\n"
          ]
        },
        {
          "data": {
            "image/png": "[encoded data removed]",
            "text/plain": [
              "<Figure size 640x480 with 1 Axes>"
            ]
          },
          "metadata": {},
          "output_type": "display_data"
        },
        {
          "data": {
            "image/png": "[encoded data removed]",
            "text/plain": [
              "<Figure size 640x480 with 1 Axes>"
            ]
          },
          "metadata": {},
          "output_type": "display_data"
        },
        {
          "data": {
            "image/png": "[encoded data removed]",
            "text/plain": [
              "<Figure size 640x480 with 1 Axes>"
            ]
          },
          "metadata": {},
          "output_type": "display_data"
        },
        {
          "data": {
            "image/png": "[encoded data removed]",
            "text/plain": [
              "<Figure size 640x480 with 1 Axes>"
            ]
          },
          "metadata": {},
          "output_type": "display_data"
        },
        {
          "data": {
            "image/png": "[encoded data removed]",
            "text/plain": [
              "<Figure size 640x480 with 1 Axes>"
            ]
          },
          "metadata": {},
          "output_type": "display_data"
        }
      ],
      "source": [
        "import numpy as np\n",
        "import matplotlib.pyplot as plt\n",
        "\n",
        "# Convert only X_test to numpy if it's a tensor\n",
        "if isinstance(X_test, tf.Tensor):\n",
        "    X_test_np = X_test.numpy()\n",
        "else:\n",
        "    X_test_np = X_test\n",
        "\n",
        "# y_test is already a NumPy array\n",
        "y_test_np = y_test\n",
        "\n",
        "# Pick 5 random test samples\n",
        "num_samples = 5\n",
        "indices = np.random.choice(len(X_test_np), num_samples, replace=False)\n",
        "sample_images = X_test_np[indices]\n",
        "sample_labels = y_test_np[indices]\n",
        "\n",
        "# Get predictions\n",
        "predictions = model.predict(sample_images)\n",
        "predicted_classes = np.argmax(predictions, axis=1)\n",
        "\n",
        "# Display each sample\n",
        "for i in range(num_samples):\n",
        "    plt.imshow(sample_images[i])\n",
        "    plt.title(f\"True: {sample_labels[i]} | Predicted: {predicted_classes[i]}\")\n",
        "    plt.axis('off')\n",
        "    plt.show()\n"
      ]
    },
    {
      "cell_type": "code",
      "execution_count": null,
      "metadata": {
        "id": "kMoowrU6b_bb"
      },
      "outputs": [],
      "source": []
    }
  ],
  "metadata": {
    "colab": {
      "provenance": [],
      "include_colab_link": true
    },
    "kernelspec": {
      "display_name": "Python 3",
      "name": "python3"
    },
    "language_info": {
      "name": "python"
    }
  },
  "nbformat": 4,
  "nbformat_minor": 0
}